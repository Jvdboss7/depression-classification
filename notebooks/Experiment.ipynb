{
 "cells": [
  {
   "cell_type": "markdown",
   "id": "9fbc881d",
   "metadata": {},
   "source": [
    "# Depression Classification"
   ]
  },
  {
   "cell_type": "markdown",
   "id": "c86a36fa",
   "metadata": {},
   "source": [
    "---\n",
    "### Import Necessary Libraries"
   ]
  },
  {
   "cell_type": "code",
   "execution_count": null,
   "id": "17ab0892",
   "metadata": {},
   "outputs": [],
   "source": [
    "from wordcloud import WordCloud\n",
    "import numpy as np \n",
    "import pandas as pd\n",
    "from sklearn.model_selection import train_test_split\n",
    "import neattext.functions as nfx\n",
    "import matplotlib.pyplot as plt\n",
    "import plotly.express as plx\n",
    "from sklearn.metrics import classification_report\n",
    "import keras\n",
    "from keras.layers import Embedding,Dense,LSTM,Bidirectional,GlobalMaxPooling1D,Input,Dropout\n",
    "from keras.callbacks import EarlyStopping,ReduceLROnPlateau\n",
    "from keras.models import Sequential\n",
    "import tensorflow as tf\n",
    "from sklearn.preprocessing import LabelEncoder\n",
    "from keras.preprocessing.text import Tokenizer\n",
    "from keras_preprocessing.sequence import pad_sequences\n",
    "# from tqdm import tqdm\n",
    "import seaborn as sns\n",
    "import pickle\n",
    "import warnings\n",
    "warnings.filterwarnings('ignore')"
   ]
  },
  {
   "cell_type": "markdown",
   "id": "b0b191b3",
   "metadata": {},
   "source": [
    "---\n",
    "### Load the data"
   ]
  },
  {
   "cell_type": "code",
   "execution_count": 2,
   "id": "7e59abed",
   "metadata": {},
   "outputs": [],
   "source": [
    "df = pd.read_csv(\"/home/jvdboss/workspace/ML_DL/Depression-Detection/Suicide_Detection.csv\")"
   ]
  },
  {
   "cell_type": "code",
   "execution_count": null,
   "id": "3122aefa",
   "metadata": {},
   "outputs": [],
   "source": [
    "df.head()"
   ]
  },
  {
   "cell_type": "code",
   "execution_count": null,
   "id": "f7913781",
   "metadata": {},
   "outputs": [],
   "source": [
    "df['class'].value_counts()"
   ]
  },
  {
   "cell_type": "markdown",
   "id": "c6c7a092",
   "metadata": {},
   "source": [
    "---\n",
    "### EDA"
   ]
  },
  {
   "cell_type": "code",
   "execution_count": 3,
   "id": "77309e66",
   "metadata": {},
   "outputs": [],
   "source": [
    "train_dataset,test_dataset = train_test_split(df,test_size = 0.2, random_state=42)"
   ]
  },
  {
   "cell_type": "code",
   "execution_count": null,
   "id": "bdf3212f",
   "metadata": {},
   "outputs": [],
   "source": [
    "train_dataset['class'].value_counts()"
   ]
  },
  {
   "cell_type": "code",
   "execution_count": null,
   "id": "fd87c5ce",
   "metadata": {},
   "outputs": [],
   "source": [
    "train_dataset['class'].value_counts().index.values"
   ]
  },
  {
   "cell_type": "code",
   "execution_count": null,
   "id": "d2a1afd9",
   "metadata": {},
   "outputs": [],
   "source": [
    "test_dataset['class'].value_counts()"
   ]
  },
  {
   "cell_type": "code",
   "execution_count": null,
   "id": "b73cc18d",
   "metadata": {},
   "outputs": [],
   "source": [
    "test_dataset['class'].value_counts().index.values"
   ]
  },
  {
   "cell_type": "code",
   "execution_count": null,
   "id": "22eeec19",
   "metadata": {},
   "outputs": [],
   "source": [
    "plx.bar(train_dataset, x = train_dataset['class'].value_counts().index.values,\n",
    "       y = train_dataset['class'].value_counts(), color = ['Suicide','Not Suicide'])"
   ]
  },
  {
   "cell_type": "code",
   "execution_count": 4,
   "id": "49010c56",
   "metadata": {},
   "outputs": [],
   "source": [
    "def text_cleaning(text):\n",
    "    text_len = []\n",
    "    clean_text = []\n",
    "    for sentance in text:\n",
    "        sentance = sentance.lower()\n",
    "        sentance = nfx.remove_special_characters(sentance)\n",
    "        sentance = nfx.remove_stopwords(sentance)\n",
    "        text_len.append(len(sentance.split()))\n",
    "        clean_text.append(sentance)\n",
    "    return clean_text,text_len"
   ]
  },
  {
   "cell_type": "code",
   "execution_count": 5,
   "id": "12d00bf5",
   "metadata": {},
   "outputs": [],
   "source": [
    "clean_train_text, train_text_len = text_cleaning(train_dataset.text)\n",
    "clean_test_text, test_text_len = text_cleaning(test_dataset.text)"
   ]
  },
  {
   "cell_type": "code",
   "execution_count": 6,
   "id": "a4646c36",
   "metadata": {},
   "outputs": [],
   "source": [
    "tokenizer = Tokenizer()\n",
    "tokenizer.fit_on_texts(clean_train_text)"
   ]
  },
  {
   "cell_type": "code",
   "execution_count": 7,
   "id": "df66da4d",
   "metadata": {},
   "outputs": [],
   "source": [
    "word_frequency = pd.DataFrame(tokenizer.word_counts.items(),columns = ['word','count']).sort_values(by = 'count',ascending=False)"
   ]
  },
  {
   "cell_type": "code",
   "execution_count": null,
   "id": "258e51d1",
   "metadata": {},
   "outputs": [],
   "source": [
    "plt.figure(figsize=(15,20))\n",
    "sns.barplot(x = 'count',y = 'word',data = word_frequency.iloc[:50])\n",
    "plt.show()"
   ]
  },
  {
   "cell_type": "code",
   "execution_count": null,
   "id": "8d26ccf9",
   "metadata": {},
   "outputs": [],
   "source": [
    "feature_names = word_frequency['word'].values\n",
    "word_cloud = WordCloud(max_words = 400)\n",
    "word_cloud.generate(' '.join(word for word in feature_names[500:3500]))\n",
    "plt.figure(figsize=(20,15))\n",
    "plt.axis('off')\n",
    "plt.imshow(word_cloud)"
   ]
  },
  {
   "cell_type": "code",
   "execution_count": 8,
   "id": "5166cc9a",
   "metadata": {},
   "outputs": [],
   "source": [
    "train_text_seq=tokenizer.texts_to_sequences(clean_train_text)\n",
    "train_text_pad=pad_sequences(train_text_seq,maxlen=50)\n",
    "\n",
    "\n",
    "test_text_seq=tokenizer.texts_to_sequences(clean_test_text)\n",
    "test_text_pad=pad_sequences(test_text_seq,maxlen=50)"
   ]
  },
  {
   "cell_type": "code",
   "execution_count": 9,
   "id": "43e8bd0d",
   "metadata": {},
   "outputs": [],
   "source": [
    "label_target=LabelEncoder()\n",
    "train_output=label_target.fit_transform(train_dataset['class'])\n",
    "test_output=label_target.transform(test_dataset['class'])"
   ]
  },
  {
   "cell_type": "code",
   "execution_count": 10,
   "id": "1a4bacbd",
   "metadata": {},
   "outputs": [],
   "source": [
    "with open('/home/jvdboss/workspace/ML_DL/Depression-Detection/glove.840B.300d.pkl', 'rb') as fp:\n",
    "    glove_embedding = pickle.load(fp)"
   ]
  },
  {
   "cell_type": "code",
   "execution_count": 11,
   "id": "9e39131b",
   "metadata": {},
   "outputs": [],
   "source": [
    "v=len(tokenizer.word_index)\n",
    "\n",
    "embedding_matrix=np.zeros((v+1,300), dtype=float)\n",
    "for word,idx in tokenizer.word_index.items():\n",
    "    embedding_vector=glove_embedding.get(word)\n",
    "    if embedding_vector is not None:\n",
    "        embedding_matrix[idx]=embedding_vector"
   ]
  },
  {
   "cell_type": "markdown",
   "id": "c471ee2e",
   "metadata": {},
   "source": [
    "---\n",
    "### Model Building"
   ]
  },
  {
   "cell_type": "code",
   "execution_count": 12,
   "id": "b3c22be3",
   "metadata": {},
   "outputs": [],
   "source": [
    "early_stop=EarlyStopping(patience=5)\n",
    "reducelr=ReduceLROnPlateau(patience=3)"
   ]
  },
  {
   "cell_type": "code",
   "execution_count": 16,
   "id": "7078068f",
   "metadata": {},
   "outputs": [
    {
     "name": "stderr",
     "output_type": "stream",
     "text": [
      "2023-02-07 12:11:16.629165: W tensorflow/core/framework/cpu_allocator_impl.cc:82] Allocation of 325338000 exceeds 10% of free system memory.\n"
     ]
    }
   ],
   "source": [
    "model=Sequential()\n",
    "model.add(Input(shape=(50,)))\n",
    "model.add(Embedding(v+1,300,weights=[embedding_matrix],trainable=False))\n",
    "model.add(LSTM(20,return_sequences=True))\n",
    "model.add(GlobalMaxPooling1D())\n",
    "#     model.add(Dropout(0.3))\n",
    "model.add(Dense(256,activation='relu'))\n",
    "#     model.add(Dropout(0.2))\n",
    "model.add(Dense(1,activation='sigmoid'))\n",
    "model.compile(optimizer=keras.optimizers.SGD(0.1,momentum=0.09),loss='binary_crossentropy',metrics=['accuracy'])"
   ]
  },
  {
   "cell_type": "code",
   "execution_count": 26,
   "id": "287cf638",
   "metadata": {},
   "outputs": [
    {
     "name": "stdout",
     "output_type": "stream",
     "text": [
      "Epoch 1/20\n",
      "726/726 [==============================] - 4s 5ms/step - loss: 0.1561 - accuracy: 0.9400 - val_loss: 0.1869 - val_accuracy: 0.9277 - lr: 1.0000e-03\n",
      "Epoch 2/20\n",
      "726/726 [==============================] - 4s 5ms/step - loss: 0.1560 - accuracy: 0.9402 - val_loss: 0.1882 - val_accuracy: 0.9273 - lr: 1.0000e-03\n",
      "Epoch 3/20\n",
      "726/726 [==============================] - 4s 5ms/step - loss: 0.1560 - accuracy: 0.9401 - val_loss: 0.1875 - val_accuracy: 0.9277 - lr: 1.0000e-03\n",
      "Epoch 4/20\n",
      "726/726 [==============================] - 4s 5ms/step - loss: 0.1559 - accuracy: 0.9401 - val_loss: 0.1862 - val_accuracy: 0.9277 - lr: 1.0000e-03\n",
      "Epoch 5/20\n",
      "726/726 [==============================] - 4s 5ms/step - loss: 0.1558 - accuracy: 0.9401 - val_loss: 0.1874 - val_accuracy: 0.9279 - lr: 1.0000e-03\n",
      "Epoch 6/20\n",
      "726/726 [==============================] - 4s 5ms/step - loss: 0.1558 - accuracy: 0.9402 - val_loss: 0.1869 - val_accuracy: 0.9279 - lr: 1.0000e-03\n",
      "Epoch 7/20\n",
      "726/726 [==============================] - 4s 5ms/step - loss: 0.1558 - accuracy: 0.9403 - val_loss: 0.1871 - val_accuracy: 0.9280 - lr: 1.0000e-03\n",
      "Epoch 8/20\n",
      "726/726 [==============================] - 4s 5ms/step - loss: 0.1557 - accuracy: 0.9402 - val_loss: 0.1871 - val_accuracy: 0.9280 - lr: 1.0000e-04\n",
      "Epoch 9/20\n",
      "726/726 [==============================] - 4s 5ms/step - loss: 0.1557 - accuracy: 0.9402 - val_loss: 0.1871 - val_accuracy: 0.9280 - lr: 1.0000e-04\n"
     ]
    }
   ],
   "source": [
    "history=model.fit(train_text_pad,train_output,validation_data=(test_text_pad,test_output),\n",
    "            epochs=20,batch_size=256,callbacks=[early_stop,reducelr])"
   ]
  },
  {
   "cell_type": "code",
   "execution_count": 27,
   "id": "0da36299",
   "metadata": {},
   "outputs": [
    {
     "data": {
      "image/png": "[encoded data removed]",
      "text/plain": [
       "<Figure size 640x480 with 1 Axes>"
      ]
     },
     "metadata": {},
     "output_type": "display_data"
    }
   ],
   "source": [
    "plt.figure()\n",
    "plt.plot(history.history['accuracy'])\n",
    "plt.plot(history.history['val_accuracy'])\n",
    "plt.title('Accuracy')\n",
    "plt.show()"
   ]
  },
  {
   "cell_type": "code",
   "execution_count": 28,
   "id": "d9b3f900",
   "metadata": {},
   "outputs": [
    {
     "data": {
      "image/png": "[encoded data removed]",
      "text/plain": [
       "<Figure size 640x480 with 1 Axes>"
      ]
     },
     "metadata": {},
     "output_type": "display_data"
    }
   ],
   "source": [
    "plt.figure()\n",
    "plt.plot(history.history['loss'])\n",
    "plt.plot(history.history['val_loss'])\n",
    "plt.title('LOSS CURVE')\n",
    "plt.show()"
   ]
  },
  {
   "cell_type": "code",
   "execution_count": null,
   "id": "6c1de4e0",
   "metadata": {},
   "outputs": [],
   "source": []
  }
 ],
 "metadata": {
  "kernelspec": {
   "display_name": "Python 3 (ipykernel)",
   "language": "python",
   "name": "python3"
  },
  "language_info": {
   "codemirror_mode": {
    "name": "ipython",
    "version": 3
   },
   "file_extension": ".py",
   "mimetype": "text/x-python",
   "name": "python",
   "nbconvert_exporter": "python",
   "pygments_lexer": "ipython3",
   "version": "3.8.16"
  }
 },
 "nbformat": 4,
 "nbformat_minor": 5
}
